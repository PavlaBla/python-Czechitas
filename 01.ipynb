{
 "cells": [
  {
   "cell_type": "markdown",
   "metadata": {},
   "source": [
    "# Načti od uživatele celé číslo, zjisti, zda je dělitelné 8 a informuj\n",
    "# o tom uživatele."
   ]
  },
  {
   "cell_type": "code",
   "execution_count": 1,
   "metadata": {},
   "outputs": [
    {
     "name": "stdout",
     "output_type": "stream",
     "text": [
      "Cislo 10 neni delitelne osmi.\n"
     ]
    }
   ],
   "source": [
    "number = int(input('Zadej cele cislo'))\n",
    "if number % 8 == 0:\n",
    "    print(f'Cislo {number} je delitelne osmi.')\n",
    "else:\n",
    "    print(f'Cislo {number} neni delitelne osmi.')\n",
    " "
   ]
  },
  {
   "cell_type": "markdown",
   "metadata": {},
   "source": [
    "# Načti od uživatele matematický operátor a 2 čísla a vypiš výsledek výpočtu.\n",
    "# Program bude podporovat operátory +, -, / a *."
   ]
  },
  {
   "cell_type": "code",
   "execution_count": 3,
   "metadata": {},
   "outputs": [
    {
     "name": "stdout",
     "output_type": "stream",
     "text": [
      "zadej validni operator\n",
      "Vysledek vypoctu 1 k 10 je 12.\n"
     ]
    }
   ],
   "source": [
    "operator = input('zadej operator:')\n",
    "prvni_cislo = int(input('zadej prvni cislo:'))\n",
    "druhe_cislo = int(input('zadej druhe cislo:'))\n",
    "\n",
    "if operator == '+':\n",
    "    vysledek = prvni_cislo + druhe_cislo\n",
    "elif operator == '-':\n",
    "    vysledek = prvni_cislo - druhe_cislo\n",
    "elif operator == '*':\n",
    "    vysledek = prvni_cislo * druhe_cislo\n",
    "elif operator == '/':\n",
    "    vysledek = prvni_cislo / druhe_cislo\n",
    "else:\n",
    "    print(f'zadej validni operator')\n",
    "\n",
    "print(f'Vysledek vypoctu {prvni_cislo} {operator} {druhe_cislo} je {vysledek}.')\n"
   ]
  },
  {
   "cell_type": "markdown",
   "metadata": {},
   "source": [
    "# Vytvoř dvě proměnné, které budou reprezentovat informaci o tom, zda zrovna\n",
    "# stojíme venku na ulici a zda venku pršelo. Napiš program, který nám řekne,\n",
    "# jestli máme zrovna mokré boty – ty máme mokré jen v případě, že jsme venku\n",
    "# a je po dešti."
   ]
  },
  {
   "cell_type": "code",
   "execution_count": 5,
   "metadata": {},
   "outputs": [
    {
     "name": "stdout",
     "output_type": "stream",
     "text": [
      "Mam mokre boty\n"
     ]
    }
   ],
   "source": [
    "jsem_venku = True\n",
    "prselo = True\n",
    "\n",
    "if jsem_venku and prselo:\n",
    "    print('Mam mokre boty')\n",
    "else:\n",
    "    print('Nemam mokre boty')"
   ]
  },
  {
   "cell_type": "markdown",
   "metadata": {},
   "source": [
    "# Napiš program, který od uživatele načte číslo a vypíše jeho ciferný součet."
   ]
  },
  {
   "cell_type": "code",
   "execution_count": 7,
   "metadata": {},
   "outputs": [
    {
     "name": "stdout",
     "output_type": "stream",
     "text": [
      "6\n"
     ]
    }
   ],
   "source": [
    "number = input('zadej cislo')\n",
    "\n",
    "sum = 0\n",
    "for item in number:\n",
    "    sum += int(item)\n",
    "\n",
    "print (sum)"
   ]
  },
  {
   "cell_type": "markdown",
   "metadata": {},
   "source": [
    "# V seznamu people máme seznam lidí s jejich daty narození. Vypište jména lidí,\n",
    "# kteří se narodili v sudý rok."
   ]
  },
  {
   "cell_type": "code",
   "execution_count": 9,
   "metadata": {},
   "outputs": [
    {
     "name": "stdout",
     "output_type": "stream",
     "text": [
      "['Jeong-Hui Mun', 'Josefina Löwe', 'Gavrilo Milojević', 'Matxin Zubizarreta', 'Mykhail Klymenko', 'Xuân Hoàng']\n"
     ]
    }
   ],
   "source": [
    "people = [\n",
    "    [\"Jeong-Hui Mun\", \"09/12/1984\"],\n",
    "    [\"Cezário Torres\", \"31/08/1993\"],\n",
    "    [\"Josefina Löwe\", \"03/11/1982\"],\n",
    "    [\"Gavrilo Milojević\", \"28/03/2002\"],\n",
    "    [\"Liidia Tamm\", \"10/07/1963\"],\n",
    "    [\"Matxin Zubizarreta\", \"19/02/1956\"],\n",
    "    [\"Mykhail Klymenko\", \"01/10/1988\"],\n",
    "    [\"Bibek Joshi\", \"05/03/2007\"],\n",
    "    [\"Jan Vlk\", \"26/09/1995\"],\n",
    "    [\"Xuân Hoàng\", \"29/08/1974\"]\n",
    "]\n",
    "\n",
    "list = []\n",
    "\n",
    "for person in people:\n",
    "    if int(person[1] [-1]) % 2 == 0:\n",
    "        list.append(person[0])\n",
    "\n",
    "print(list)"
   ]
  }
 ],
 "metadata": {
  "kernelspec": {
   "display_name": "Python 3",
   "language": "python",
   "name": "python3"
  },
  "language_info": {
   "codemirror_mode": {
    "name": "ipython",
    "version": 3
   },
   "file_extension": ".py",
   "mimetype": "text/x-python",
   "name": "python",
   "nbconvert_exporter": "python",
   "pygments_lexer": "ipython3",
   "version": "3.11.8"
  }
 },
 "nbformat": 4,
 "nbformat_minor": 2
}
