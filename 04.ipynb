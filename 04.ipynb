{
 "cells": [
  {
   "cell_type": "markdown",
   "metadata": {},
   "source": [
    "Do proměnné animal ulož slovník, který bude reprezentovat zvíře s alespoň 5\n",
    "nějakými jeho vlastnostmi. Pokus se, aby alespoň jedna z hodnot byla seznam.\n",
    "Pokud tě nic nenapadá, mrkni na svoje oblíbené zvíře na Wikipedii."
   ]
  },
  {
   "cell_type": "code",
   "execution_count": null,
   "metadata": {},
   "outputs": [],
   "source": [
    "animal = {\n",
    "    'type':'cat',\n",
    "    'name':'micka',\n",
    "    'colour': 'black',\n",
    "    'age': 1,\n",
    "    'loves': ['play','sleep','eat']\n",
    "      }"
   ]
  },
  {
   "cell_type": "markdown",
   "metadata": {},
   "source": [
    "Napiš funkci in_in, která vezme jako parametr slovník a řetětec a zjistí, zda\n",
    "se daný řetězec nachází v klíčích nebo hodnotách ve slovníku."
   ]
  },
  {
   "cell_type": "code",
   "execution_count": 5,
   "metadata": {},
   "outputs": [
    {
     "name": "stdout",
     "output_type": "stream",
     "text": [
      "dog is not in animal\n"
     ]
    }
   ],
   "source": [
    "def in_in(dictionary, string):\n",
    "    is_key = string in dictionary.keys()\n",
    "    is_value = string in dictionary.values()\n",
    "    return is_key or is_value\n",
    "\n",
    "animal = {\n",
    "    'type':'cat',\n",
    "    'name':'micka',\n",
    "    'colour': 'black',\n",
    "    'age': 1,\n",
    "    'loves': ['play','sleep','eat']\n",
    "      }\n",
    "dictionary = animal\n",
    "string = 'dog'\n",
    "\n",
    "if in_in(dictionary, string):\n",
    "    print(f'{string} is in animal'),\n",
    "else:\n",
    "    print(f'{string} is not in animal')"
   ]
  },
  {
   "cell_type": "markdown",
   "metadata": {},
   "source": [
    "Proměnná medal_table obsahuje zisky medailí států na olympiádě 2020. Vypiš\n",
    "název státu, který získal nejvíc medailí."
   ]
  },
  {
   "cell_type": "code",
   "execution_count": 7,
   "metadata": {},
   "outputs": [
    {
     "name": "stdout",
     "output_type": "stream",
     "text": [
      "the top state is Australia\n"
     ]
    }
   ],
   "source": [
    "medal_table = {\n",
    "    \"Kenya\": 10,\n",
    "    \"Australia\": 46,\n",
    "    \"Iran\": 7,\n",
    "    \"Ecuador\": 3,\n",
    "    \"Portugal\": 4,\n",
    "    \"Kazakhstan\": 8,\n",
    "}\n",
    "\n",
    "top_state = ''\n",
    "top_medals = 0\n",
    "\n",
    "for state, medals in medal_table.items():\n",
    "    if medals > top_medals:\n",
    "        top_medals = medals\n",
    "        top_state = state\n",
    "\n",
    "print(f'the top state is {top_state}')"
   ]
  },
  {
   "cell_type": "markdown",
   "metadata": {},
   "source": [
    "Proměnná medal_table tentokrát obsahuje zisky jednotlivých druhů medailí států\n",
    "na olympiádě 2020.\n",
    "Vypiš název státu, který získal nejvíc bronzových medailí."
   ]
  },
  {
   "cell_type": "code",
   "execution_count": 12,
   "metadata": {},
   "outputs": [
    {
     "name": "stdout",
     "output_type": "stream",
     "text": [
      "top bronze state is Ukraine\n",
      "the top state is Ukraine\n"
     ]
    }
   ],
   "source": [
    "medal_table = {\n",
    "    \"Cuba\": { \"gold\": 7, \"silver\": 3, \"bronze\": 5 },\n",
    "    \"Spain\": { \"gold\": 3, \"silver\": 8, \"bronze\": 6 },\n",
    "    \"Uganda\": { \"gold\": 2, \"silver\": 1, \"bronze\": 1 },\n",
    "    \"Bahamas\": { \"gold\": 2, \"silver\": 0, \"bronze\": 0 },\n",
    "    \"Ukraine\": { \"gold\": 1, \"silver\": 6, \"bronze\": 12 },\n",
    "    \"San Marino\": { \"gold\": 0, \"silver\": 1, \"bronze\": 2 },\n",
    "}\n",
    "\n",
    "top_state = ''\n",
    "top_bronze = 0\n",
    "\n",
    "for state, medals in medal_table.items():\n",
    "    if medals['bronze'] > top_bronze:\n",
    "        top_bronze = medals['bronze']\n",
    "        top_state = state\n",
    "\n",
    "print(f'top bronze state is {top_state}')\n",
    "\n",
    "# Vypiš název státu, který získal nejvíc medailí celkově.\n",
    "\n",
    "top_state = ''\n",
    "top_medals = 0\n",
    "\n",
    "for state, medals in medal_table.items():\n",
    "    total_medals = sum(medals.values())\n",
    "    if total_medals > top_medals:\n",
    "        top_medals = total_medals\n",
    "        top_state = state\n",
    "\n",
    "print(f'the top state is {top_state}')"
   ]
  },
  {
   "cell_type": "markdown",
   "metadata": {},
   "source": [
    "Proměnná medal_table tentokrát obsahuje zisky jednotlivých druhů medailí států\n",
    "na posledních 3 letních olympiádách.\n",
    "Pro každý rok vypiš stát s nejvíce medailemi."
   ]
  },
  {
   "cell_type": "code",
   "execution_count": 20,
   "metadata": {},
   "outputs": [
    {
     "name": "stdout",
     "output_type": "stream",
     "text": [
      "top state in year 2012 was South Korea\n",
      "top state in year 2016 was South Korea\n",
      "top state in year 2020 was Brazil\n",
      "for Brazil the worst year was 2012\n",
      "for Norway the worst year was 2012\n",
      "for Czech Republic the worst year was 2016\n",
      "for New Zealand the worst year was 2012\n",
      "for South Korea the worst year was 2020\n"
     ]
    }
   ],
   "source": [
    "medal_table = {\n",
    "    2012: {\n",
    "        \"Brazil\": { \"gold\": 3, \"silver\": 5, \"bronze\": 9 },\n",
    "        \"Norway\": { \"gold\": 2, \"silver\": 1, \"bronze\": 1 },\n",
    "        \"Czech Republic\": { \"gold\": 4, \"silver\": 4, \"bronze\": 3 },\n",
    "        \"New Zealand\": { \"gold\": 6, \"silver\": 2, \"bronze\": 5 },\n",
    "        \"South Korea\": { \"gold\": 13, \"silver\": 9, \"bronze\": 8 },\n",
    "    },\n",
    "    2016: {\n",
    "        \"Brazil\": { \"gold\": 7, \"silver\": 6, \"bronze\": 6 },\n",
    "        \"Norway\": { \"gold\": 0, \"silver\": 0, \"bronze\": 4 },\n",
    "        \"Czech Republic\": { \"gold\": 1, \"silver\": 2, \"bronze\": 7 },\n",
    "        \"New Zealand\": { \"gold\": 4, \"silver\": 9, \"bronze\": 5 },\n",
    "        \"South Korea\": { \"gold\": 9, \"silver\": 3, \"bronze\": 9 },\n",
    "    },\n",
    "    2020: {\n",
    "        \"Brazil\": { \"gold\": 7, \"silver\": 6, \"bronze\": 8 },\n",
    "        \"Norway\": { \"gold\": 4, \"silver\": 2, \"bronze\": 2 },\n",
    "        \"Czech Republic\": { \"gold\": 4, \"silver\": 4, \"bronze\": 4 },\n",
    "        \"New Zealand\": { \"gold\": 7, \"silver\": 6, \"bronze\": 7 },\n",
    "        \"South Korea\": { \"gold\": 6, \"silver\": 4, \"bronze\": 10 },\n",
    "    },\n",
    "}\n",
    "\n",
    "for year, table in medal_table.items():\n",
    "    top_state = ''\n",
    "    top_medal_count = 0\n",
    "\n",
    "    for state, medals in table.items():\n",
    "        total_medals = sum(medals.values())\n",
    "        if total_medals > top_medal_count:\n",
    "            top_medal_count = total_medals\n",
    "            top_state = state\n",
    "    \n",
    "    print(f'top state in year {year} was {top_state}')\n",
    "\n",
    "# Pro každý stát vypiš rok s nejmíň medailemi.\n",
    "import math\n",
    "\n",
    "countries = medal_table[2012].keys()\n",
    "for country in countries:\n",
    "    worst_year = 0\n",
    "    worst_medal_count = math.inf\n",
    "\n",
    "    for year, table in medal_table.items():\n",
    "        medal_count = sum(table[country].values())\n",
    "        if medal_count < worst_medal_count:\n",
    "            worst_medal_count = medal_count\n",
    "            worst_year = year\n",
    "\n",
    "\n",
    "    print (f'for {country} the worst year was {worst_year}')"
   ]
  }
 ],
 "metadata": {
  "kernelspec": {
   "display_name": "Python 3",
   "language": "python",
   "name": "python3"
  },
  "language_info": {
   "codemirror_mode": {
    "name": "ipython",
    "version": 3
   },
   "file_extension": ".py",
   "mimetype": "text/x-python",
   "name": "python",
   "nbconvert_exporter": "python",
   "pygments_lexer": "ipython3",
   "version": "3.11.8"
  }
 },
 "nbformat": 4,
 "nbformat_minor": 2
}
