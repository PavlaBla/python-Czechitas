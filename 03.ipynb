{
 "cells": [
  {
   "cell_type": "markdown",
   "metadata": {},
   "source": [
    "Vygoogli si funkci randint z modulu random a zjisti, jak funguje. Naimportuj\n",
    "si ji a napiš funkci, která se bude hovat jako hrací kostka, tj. bude vracet\n",
    "náhodné číslo od 1 do 6."
   ]
  },
  {
   "cell_type": "code",
   "execution_count": 6,
   "metadata": {},
   "outputs": [
    {
     "name": "stdout",
     "output_type": "stream",
     "text": [
      "6\n"
     ]
    }
   ],
   "source": [
    "from random import randint\n",
    "\n",
    "def dice():\n",
    "    return randint(1,6)\n",
    "\n",
    "print(dice())"
   ]
  },
  {
   "cell_type": "markdown",
   "metadata": {},
   "source": [
    "Napiš funkci map_multiply, která vezme jako parametry seznam čísel a číslo\n",
    "a vrátí seznam čísel vynásobený číslem z druhého parametru.\n"
   ]
  },
  {
   "cell_type": "code",
   "execution_count": 8,
   "metadata": {},
   "outputs": [
    {
     "name": "stdout",
     "output_type": "stream",
     "text": [
      "[2, 4, 6, 8, 10]\n"
     ]
    }
   ],
   "source": [
    "def map_multiply(list, number):\n",
    "    result = []\n",
    "    for item in list:\n",
    "        result.append(item * number)\n",
    "    return result\n",
    "\n",
    "list = [1,2,3,4,5]\n",
    "number = 2\n",
    "\n",
    "print(map_multiply(list,number))"
   ]
  },
  {
   "cell_type": "markdown",
   "metadata": {},
   "source": [
    "Napiš funkci filter_letter, která vezme jako parametry seznam řetězců a písmeno\n",
    "a vrátí seznam pouze těch řetězců, které dané písmeno neobsahují."
   ]
  },
  {
   "cell_type": "code",
   "execution_count": 9,
   "metadata": {},
   "outputs": [
    {
     "name": "stdout",
     "output_type": "stream",
     "text": [
      "['dog', 'cow']\n"
     ]
    }
   ],
   "source": [
    "def filter_letter(list, letter):\n",
    "    updated_list = []\n",
    "    for string in list:\n",
    "        if letter not in string:\n",
    "            updated_list.append(string)\n",
    "    return updated_list\n",
    "\n",
    "list = ['cat', 'dog', 'cow']\n",
    "letter = 'a'\n",
    "\n",
    "print(filter_letter(list, letter))"
   ]
  },
  {
   "cell_type": "markdown",
   "metadata": {},
   "source": [
    "Napiš funkci powers, která vezme dva číselné parametry. První z nich bude základ\n",
    "mocniny a druhé bude značit počet, kolik mocnin daného základu chceme vrátit.\n",
    "Mocniny vrátíme jako seznam.\n"
   ]
  },
  {
   "cell_type": "code",
   "execution_count": 10,
   "metadata": {},
   "outputs": [
    {
     "name": "stdout",
     "output_type": "stream",
     "text": [
      "[1, 2, 4]\n"
     ]
    }
   ],
   "source": [
    "def powers(base, count):\n",
    "    list = []\n",
    "    for power in range(count):\n",
    "        list.append(base ** power)\n",
    "    return list\n",
    "\n",
    "base = 2\n",
    "count = 3\n",
    "\n",
    "print(powers(base,count))"
   ]
  },
  {
   "cell_type": "markdown",
   "metadata": {},
   "source": [
    "Napiš funkci fibonacci, která vezme jeden číselný parametr a vrátí odpovídající\n",
    "počet členů Fibonacciho posloupnosti. Fibonacciho posloupnost začíná čísly 1 a 1\n",
    "a každé další číslo získáme tak, že sečteme poslední dvě [1, 1, 2, 3, 5, 8, ...]."
   ]
  },
  {
   "cell_type": "code",
   "execution_count": 12,
   "metadata": {},
   "outputs": [
    {
     "name": "stdout",
     "output_type": "stream",
     "text": [
      "[1, 1, 2, 3, 5]\n"
     ]
    }
   ],
   "source": [
    "def fibonacci(count):\n",
    "    fibonacci_sequence = [1,1]\n",
    "    for last_index in range (1, count -1):\n",
    "        next_number = fibonacci_sequence[last_index-1]+fibonacci_sequence[last_index]\n",
    "        fibonacci_sequence.append(next_number)\n",
    "    return fibonacci_sequence\n",
    "\n",
    "print(fibonacci(5))"
   ]
  }
 ],
 "metadata": {
  "kernelspec": {
   "display_name": "Python 3",
   "language": "python",
   "name": "python3"
  },
  "language_info": {
   "codemirror_mode": {
    "name": "ipython",
    "version": 3
   },
   "file_extension": ".py",
   "mimetype": "text/x-python",
   "name": "python",
   "nbconvert_exporter": "python",
   "pygments_lexer": "ipython3",
   "version": "3.11.8"
  }
 },
 "nbformat": 4,
 "nbformat_minor": 2
}
