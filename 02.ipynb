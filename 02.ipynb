{
 "cells": [
  {
   "cell_type": "markdown",
   "metadata": {},
   "source": [
    "# Napiš program, který načte od uživatele řetězec a nahradí první tři a poslední\n",
    "# tři znaky za \"***\""
   ]
  },
  {
   "cell_type": "code",
   "execution_count": 3,
   "metadata": {},
   "outputs": [
    {
     "name": "stdout",
     "output_type": "stream",
     "text": [
      "string too short\n"
     ]
    }
   ],
   "source": [
    "input_string = input('enter string:')\n",
    "if len(input_string) > 6:\n",
    "    output_string = f'***{input_string[3:-3]}***'\n",
    "else:\n",
    "    output_string = 'string too short'\n",
    "\n",
    "print(output_string)"
   ]
  },
  {
   "cell_type": "markdown",
   "metadata": {},
   "source": [
    "# Napiš funkci mask_card_number, která jako parametr dostane číslo karty\n",
    "# (jako řetězec), zachová jen první 4 čísla a zbytek nahradí hvězdičkami.\n",
    "# Mezery mezi čísly skrývat nebude."
   ]
  },
  {
   "cell_type": "code",
   "execution_count": 6,
   "metadata": {},
   "outputs": [
    {
     "name": "stdout",
     "output_type": "stream",
     "text": [
      "1236 **** **** ****\n"
     ]
    }
   ],
   "source": [
    "def mask_card_number(card_number):\n",
    "    masked_number = card_number [:4]\n",
    "    for character in card_number [4:]:\n",
    "        if character == ' ':\n",
    "            masked_number += ' '\n",
    "        else:\n",
    "            masked_number += '*'\n",
    "    return masked_number\n",
    "\n",
    "card_number = input('enter your card number:')\n",
    "\n",
    "print(mask_card_number(card_number))"
   ]
  },
  {
   "cell_type": "markdown",
   "metadata": {},
   "source": [
    "# Napiš funkci initials, která vezme jako parametr řetězec se jménem a získá z něj\n",
    "# iniciály. Tuto funkci použij v programu, ve kterém se zeptáš uživatele na jméno\n",
    "# a vypíšeš mu zpět jeho iniciály.\n"
   ]
  },
  {
   "cell_type": "code",
   "execution_count": 8,
   "metadata": {},
   "outputs": [
    {
     "name": "stdout",
     "output_type": "stream",
     "text": [
      "PB\n"
     ]
    }
   ],
   "source": [
    "def initials(name):\n",
    "    name_initials = ''\n",
    "    for word in name.split():\n",
    "        name_initials += word[0]\n",
    "    return name_initials\n",
    "\n",
    "name = input('zadej jmeno:')\n",
    "\n",
    "print(initials(name))"
   ]
  }
 ],
 "metadata": {
  "kernelspec": {
   "display_name": "Python 3",
   "language": "python",
   "name": "python3"
  },
  "language_info": {
   "codemirror_mode": {
    "name": "ipython",
    "version": 3
   },
   "file_extension": ".py",
   "mimetype": "text/x-python",
   "name": "python",
   "nbconvert_exporter": "python",
   "pygments_lexer": "ipython3",
   "version": "3.11.8"
  }
 },
 "nbformat": 4,
 "nbformat_minor": 2
}
